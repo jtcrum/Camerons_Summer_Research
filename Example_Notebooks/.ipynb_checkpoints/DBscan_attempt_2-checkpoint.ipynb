{
 "cells": [
  {
   "cell_type": "code",
   "execution_count": 44,
   "id": "7499fe03",
   "metadata": {},
   "outputs": [],
   "source": [
    "import numpy as np\n",
    "\n",
    "import pandas as pd\n",
    "\n",
    "from zse.collections import *\n",
    "from zse.utilities import *\n",
    "\n",
    "from ase.io import read, write\n",
    "from matplotlib import cm\n",
    "from matplotlib import pyplot as plt\n",
    "from collections import Counter\n",
    "\n",
    "from sklearn.cluster import KMeans\n",
    "from sklearn.cluster import DBSCAN\n",
    "\n",
    "from collections import defaultdict\n",
    "\n",
    "from sklearn.metrics import silhouette_samples, silhouette_score, completeness_score, homogeneity_score, mean_squared_error\n",
    "from yellowbrick.cluster import KElbowVisualizer, SilhouetteVisualizer\n",
    "\n",
    "from sklearn.neighbors import NearestNeighbors\n",
    "\n",
    "from kneed import KneeLocator"
   ]
  },
  {
   "cell_type": "code",
   "execution_count": 2,
   "id": "88979457",
   "metadata": {},
   "outputs": [],
   "source": [
    "def get_fw_data(file,code):\n",
    "    \n",
    "    # file is the file we want to read from\n",
    "    # code is the IZA framework code you want data on\n",
    "    \n",
    "    file = open(file,'r')\n",
    "    data = file.readlines()\n",
    "    file.close()\n",
    "    \n",
    "    for i,line in enumerate(data):\n",
    "        fields = line.split()\n",
    "        if fields[0] == code:\n",
    "            start = i\n",
    "            break\n",
    "    \n",
    "    # go through fw chunk and get data\n",
    "    \n",
    "    t_sites = {}\n",
    "    o_sites = {}\n",
    "    for i,line in enumerate(data[start+1:]):\n",
    "        line = line.rstrip(' \\n')\n",
    "\n",
    "        # get the t site rings\n",
    "        \n",
    "        if 'T' in line and ':' in line:\n",
    "            fields = line.split(':')\n",
    "            t_sites[fields[0]]=fields[1]                \n",
    "        \n",
    "        # get the o site rings\n",
    "        \n",
    "        if 'O' in line and ':' in line:\n",
    "            fields = line.split(':')\n",
    "            o_sites[fields[0]]=fields[1]        \n",
    "        \n",
    "        fields = line.split()\n",
    "        if fields[0] == 'Framework':\n",
    "            end = i+start-1\n",
    "            break\n",
    "\n",
    "    return(t_sites,o_sites)    \n",
    "\n",
    "def numofrings(file,code):\n",
    "    #might already be a function called counter so come up with very unique names otherwsie function overrides it -- isseue with kernel resets\n",
    "    '''takes in the file and code name and returns how many of each ring type is present\n",
    "    arguments: file: dataset\n",
    "                code: which zeolite is being observed\n",
    "    returns: number of each rings inside'''\n",
    "    \n",
    "    #call function to get data\n",
    "    tsites, osites = get_fw_data(file,code)\n",
    "    \n",
    "    for t in tsites:\n",
    "        #print('check 1')\n",
    "        #resets dictionary each tsite\n",
    "        tsite_dict = {1:0,2:0,3:0,4:0,5:0,6:0,7:0,8:0,9:0,10:0,11:0,12:0}\n",
    "        #ways to make dictionary without knowing what it is \n",
    "        \n",
    "        #make into vector not dictionary \n",
    "        \n",
    "        #restarts j to 1 to check for ring size\n",
    "        j = 1\n",
    "        #go through all of the one tsite\n",
    "        for i in range(0,len(tsites[t])-2,2):\n",
    "            #print('check 2')\n",
    "            #set yes to true\n",
    "            print('i is',i)\n",
    "            yes = True\n",
    "            while yes:\n",
    "                #print('check 3')\n",
    "                #print(tsites[t][i])\n",
    "                #print(int(tsites[t][i]) == j)\n",
    "                #print(tsite_dict[j])\n",
    "                #number of rings matches dictionary component\n",
    "                if int(tsites[t][i]) == j:\n",
    "                    print('check 4')\n",
    "                    tsite_dict[j] = tsite_dict[j] + 1\n",
    "                    #end while loop \n",
    "                    yes = False\n",
    "                #increase j \n",
    "                else:\n",
    "                    \n",
    "                    j = j + 1\n",
    "                    print('j is',j)\n",
    "        print(t,tsite_dict)\n",
    "        \n",
    "\n",
    "def nringsvector(code,file):\n",
    "    '''takes in the file and code name and returns how many of each ring type is present\n",
    "    arguments: file: dataset\n",
    "                code: which zeolite is being observed\n",
    "    returns: vector of number of rings for each tsite'''\n",
    "    \n",
    "    #get site data\n",
    "    tsites, osites = get_fw_data(file,code)\n",
    "    \n",
    "    #create empty vector\n",
    "    A = np.zeros([len(tsites),21])\n",
    "    \n",
    "    #coutner for which row of the matrix you are in\n",
    "    k=0 \n",
    "    \n",
    "    #go through each tsite\n",
    "    for t in tsites:\n",
    "        #initialize accumulator \n",
    "        j=1\n",
    "        \n",
    "        #make list of number of rings\n",
    "        tsites_list = tsites[t].split('_')\n",
    "        #go through the string for each t list\n",
    "        for i in range(0,len(tsites_list)):\n",
    "            #make the while loop true each for loop\n",
    "            yes = True\n",
    "            while yes:\n",
    "                if int(tsites_list[i]) == j:\n",
    "                    A[k][j] = A[k][j] + 1\n",
    "                    #end while loop \n",
    "                    yes = False\n",
    "                #increase j \n",
    "                else:\n",
    "                    j = j + 1\n",
    "        #increase row\n",
    "        k = k +1 \n",
    "    return A\n",
    "\n",
    "def assemblematrix(file):\n",
    "    fws = get_all_fws()\n",
    "    fws = fws[1:]\n",
    "    B = nringsvector('ABW',file)\n",
    "    for code in fws:\n",
    "        C = nringsvector(code,file)\n",
    "        B = np.append(B, C, axis=0)\n",
    "    return B\n",
    "\n",
    "def weight_avg(file):\n",
    "    '''Takes in a files frameworks and makes a wieghted average for each framewokr\n",
    "        Arguments: file - whichever defintion of ring used\n",
    "        returns: an array of the values'''\n",
    "    fws = get_all_fws()\n",
    "    fws_weights = np.zeros([len(fws),21])\n",
    "    count = 0\n",
    "    for code in fws:\n",
    "        #get tsite sata\n",
    "        tsites, osites = get_fw_data(file,code)\n",
    "        ts, tm, ti = get_tsites(code)\n",
    "        #number of tsites\n",
    "        n = len(tsites)\n",
    "        #get the matrix of the tsite vectors\n",
    "        rings = nringsvector(code,file)\n",
    "        temp = np.zeros(len(rings[0]))\n",
    "        #to move through the rings matrix\n",
    "        ring_count = 0\n",
    "        #calculate weights and add them rows of tsite values together\n",
    "        for s,m,i in zip(ts,tm,ti):\n",
    "            #calculate weight\n",
    "            w = m/sum(tm)\n",
    "            #make weighted framework\n",
    "            temp = w*rings[ring_count] + temp\n",
    "            ring_count = ring_count + 1\n",
    "        fws_weights[count] = temp\n",
    "        #increase row number\n",
    "        count = count + 1\n",
    "    return fws_weights"
   ]
  },
  {
   "cell_type": "code",
   "execution_count": 45,
   "id": "f695b4c8",
   "metadata": {},
   "outputs": [],
   "source": [
    "from sklearn.preprocessing import MinMaxScaler\n",
    "import sys\n",
    "np.set_printoptions(threshold=sys.maxsize)\n",
    "\n",
    "A = weight_avg('../Data/vertex_rings.txt')\n",
    "B = weight_avg('../Data/sastre_rings.txt')\n",
    "C = weight_avg('../Data/crum_rings.txt')\n",
    "D = weight_avg('../Data/goetzke_rings.txt')\n",
    "\n",
    "\n",
    "\n",
    "scaler = MinMaxScaler()\n",
    "# transform data\n",
    "scaledA = scaler.fit_transform(A)\n",
    "scaledB = scaler.fit_transform(B)\n",
    "scaledC = scaler.fit_transform(C)\n",
    "scaledD = scaler.fit_transform(D)\n",
    "\n",
    "neigh = NearestNeighbors(n_neighbors=6)\n",
    "nbrs = neigh.fit(scaledA)\n",
    "distances, indices = nbrs.kneighbors(scaledA)"
   ]
  },
  {
   "cell_type": "code",
   "execution_count": null,
   "id": "a4193f61",
   "metadata": {},
   "outputs": [],
   "source": []
  },
  {
   "cell_type": "code",
   "execution_count": 47,
   "id": "9b4c3132",
   "metadata": {},
   "outputs": [
    {
     "data": {
      "text/plain": [
       "Text(0, 0.5, 'Distance')"
      ]
     },
     "execution_count": 47,
     "metadata": {},
     "output_type": "execute_result"
    },
    {
     "data": {
      "image/png": "[encoded data removed]",
      "text/plain": [
       "<Figure size 360x360 with 1 Axes>"
      ]
     },
     "metadata": {},
     "output_type": "display_data"
    }
   ],
   "source": [
    "distances = np.sort(distances[:,5], axis=0)\n",
    "fig = plt.figure(figsize=(5, 5))\n",
    "plt.plot(distances)\n",
    "plt.xlabel(\"Points\")\n",
    "plt.ylabel(\"Distance\")\n"
   ]
  },
  {
   "cell_type": "code",
   "execution_count": 48,
   "id": "76677c69",
   "metadata": {},
   "outputs": [
    {
     "name": "stdout",
     "output_type": "stream",
     "text": [
      "0.3089747071691099\n"
     ]
    },
    {
     "data": {
      "text/plain": [
       "<Figure size 360x360 with 0 Axes>"
      ]
     },
     "metadata": {},
     "output_type": "display_data"
    },
    {
     "data": {
      "image/png": "[encoded data removed]",
      "text/plain": [
       "<Figure size 432x432 with 1 Axes>"
      ]
     },
     "metadata": {},
     "output_type": "display_data"
    }
   ],
   "source": [
    "i = np.arange(len(distances))\n",
    "knee = KneeLocator(i, distances, S=1, curve='convex', direction='increasing', interp_method='polynomial')\n",
    "fig = plt.figure(figsize=(5, 5))\n",
    "knee.plot_knee()\n",
    "plt.xlabel(\"Points\")\n",
    "plt.ylabel(\"Distance\")\n",
    "\n",
    "print(distances[knee.knee])"
   ]
  },
  {
   "cell_type": "code",
   "execution_count": 52,
   "id": "5cbad0e1",
   "metadata": {},
   "outputs": [
    {
     "name": "stdout",
     "output_type": "stream",
     "text": [
      "0.26000392461716126\n"
     ]
    },
    {
     "data": {
      "image/png": "[encoded data removed]",
      "text/plain": [
       "<Figure size 360x360 with 1 Axes>"
      ]
     },
     "metadata": {},
     "output_type": "display_data"
    },
    {
     "data": {
      "text/plain": [
       "<Figure size 360x360 with 0 Axes>"
      ]
     },
     "metadata": {},
     "output_type": "display_data"
    },
    {
     "data": {
      "image/png": "[encoded data removed]",
      "text/plain": [
       "<Figure size 432x432 with 1 Axes>"
      ]
     },
     "metadata": {},
     "output_type": "display_data"
    }
   ],
   "source": [
    "neigh = NearestNeighbors(n_neighbors=3)\n",
    "nbrs = neigh.fit(scaledA)\n",
    "distances, indices = nbrs.kneighbors(scaledA)\n",
    "\n",
    "distances = np.sort(distances[:,2], axis=0)\n",
    "fig = plt.figure(figsize=(5, 5))\n",
    "plt.plot(distances)\n",
    "plt.xlabel(\"Points\")\n",
    "plt.ylabel(\"Distance\")\n",
    "\n",
    "i = np.arange(len(distances))\n",
    "knee = KneeLocator(i, distances, S=1, curve='convex', direction='increasing', interp_method='polynomial')\n",
    "fig = plt.figure(figsize=(5, 5))\n",
    "knee.plot_knee()\n",
    "plt.xlabel(\"Points\")\n",
    "plt.ylabel(\"Distance\")\n",
    "\n",
    "print(distances[knee.knee])"
   ]
  },
  {
   "cell_type": "code",
   "execution_count": 53,
   "id": "1636c9a4",
   "metadata": {},
   "outputs": [
    {
     "name": "stdout",
     "output_type": "stream",
     "text": [
      "0.20152372528903725\n"
     ]
    },
    {
     "data": {
      "image/png": "[encoded data removed]",
      "text/plain": [
       "<Figure size 360x360 with 1 Axes>"
      ]
     },
     "metadata": {},
     "output_type": "display_data"
    },
    {
     "data": {
      "text/plain": [
       "<Figure size 360x360 with 0 Axes>"
      ]
     },
     "metadata": {},
     "output_type": "display_data"
    },
    {
     "data": {
      "image/png": "[encoded data removed]",
      "text/plain": [
       "<Figure size 432x432 with 1 Axes>"
      ]
     },
     "metadata": {},
     "output_type": "display_data"
    }
   ],
   "source": [
    "neigh = NearestNeighbors(n_neighbors=2)\n",
    "nbrs = neigh.fit(scaledA)\n",
    "distances, indices = nbrs.kneighbors(scaledA)\n",
    "\n",
    "distances = np.sort(distances[:,1], axis=0)\n",
    "fig = plt.figure(figsize=(5, 5))\n",
    "plt.plot(distances)\n",
    "plt.xlabel(\"Points\")\n",
    "plt.ylabel(\"Distance\")\n",
    "\n",
    "i = np.arange(len(distances))\n",
    "knee = KneeLocator(i, distances, S=1, curve='convex', direction='increasing', interp_method='polynomial')\n",
    "fig = plt.figure(figsize=(5, 5))\n",
    "knee.plot_knee()\n",
    "plt.xlabel(\"Points\")\n",
    "plt.ylabel(\"Distance\")\n",
    "\n",
    "print(distances[knee.knee])"
   ]
  },
  {
   "cell_type": "code",
   "execution_count": 16,
   "id": "09657c5e",
   "metadata": {},
   "outputs": [
    {
     "name": "stdout",
     "output_type": "stream",
     "text": [
      "[1. 2. 3. 4.]\n"
     ]
    }
   ],
   "source": [
    "#epislon should be 4.2\n",
    "x = np.linspace(1,4,4)\n",
    "print(x)\n",
    "y = []\n",
    "for i in range(1,5):\n",
    "    clustering = DBSCAN(eps=.3,min_samples=i).fit(scaledA)\n",
    "    cluster = clustering.labels_\n",
    "    y.append(max(cluster))\n"
   ]
  },
  {
   "cell_type": "code",
   "execution_count": 17,
   "id": "17e5309b",
   "metadata": {},
   "outputs": [
    {
     "data": {
      "text/plain": [
       "[<matplotlib.lines.Line2D at 0x7fbf566fbe50>]"
      ]
     },
     "execution_count": 17,
     "metadata": {},
     "output_type": "execute_result"
    },
    {
     "data": {
      "image/png": "[encoded data removed]",
      "text/plain": [
       "<Figure size 576x396 with 1 Axes>"
      ]
     },
     "metadata": {},
     "output_type": "display_data"
    }
   ],
   "source": [
    "plt.plot(x,y)"
   ]
  },
  {
   "cell_type": "code",
   "execution_count": 54,
   "id": "979e38b8",
   "metadata": {},
   "outputs": [],
   "source": [
    "clustering = DBSCAN(eps=.26,min_samples=3).fit(scaledA)\n",
    "cluster = clustering.labels_"
   ]
  },
  {
   "cell_type": "code",
   "execution_count": 55,
   "id": "656f877c",
   "metadata": {},
   "outputs": [
    {
     "name": "stdout",
     "output_type": "stream",
     "text": [
      "3\n"
     ]
    }
   ],
   "source": [
    "print(max(cluster))"
   ]
  },
  {
   "cell_type": "code",
   "execution_count": 26,
   "id": "72794e5e",
   "metadata": {},
   "outputs": [
    {
     "name": "stdout",
     "output_type": "stream",
     "text": [
      "22\n"
     ]
    }
   ],
   "source": [
    "clustering = DBSCAN(eps=.3,min_samples=1).fit(scaledA)\n",
    "cluster = clustering.labels_\n",
    "print(max(cluster))"
   ]
  },
  {
   "cell_type": "code",
   "execution_count": 73,
   "id": "4b99ec3d",
   "metadata": {},
   "outputs": [],
   "source": [
    "def DBresults(A,epsilon,min_samples1):\n",
    "    \n",
    "    fws = get_all_fws()\n",
    "    \n",
    "    clustering = DBSCAN(eps=epsilon,min_samples=min_samples1).fit(A)\n",
    "    cluster = clustering.labels_\n",
    "    zlist = defaultdict(list)\n",
    "    for i in range(len(cluster)):\n",
    "        zlist[cluster[i]].append(fws[i])\n",
    "    llist = []\n",
    "    for i in range(max(cluster)+1):\n",
    "        llist.append(len(zlist[i]))\n",
    "    llist.sort()\n",
    "    \n",
    "    return zlist, llist"
   ]
  },
  {
   "cell_type": "code",
   "execution_count": 89,
   "id": "2cfac876",
   "metadata": {},
   "outputs": [],
   "source": [
    "def DBproperties(A,values,eps,min_samples):\n",
    "    '''Arguments:\n",
    "    \n",
    "        A: the assembled matrix\n",
    "        nclusters: number of clusters\n",
    "        values: data framework to be texted'''\n",
    "    #get all the frameworks\n",
    "    fws = get_all_fws()\n",
    "    #get the clusters\n",
    "    Azlist, Aist = DBresults(A,eps,min_samples)\n",
    "    #create a values dictionary to store the frameworks IZa values\n",
    "    value_dict = defaultdict(list)\n",
    "    #go through all the clusters\n",
    "    for k in Azlist:\n",
    "        #go through all the frameworks in each cluster\n",
    "        for i in range(len(Azlist[k])):\n",
    "            #find the index for the framework\n",
    "            idx = fws.index(Azlist[k][i])\n",
    "            if isNaN(values[idx]) != True:\n",
    "                #add the framework's values to the dictionary\n",
    "                value_dict[k].append(int(values[idx]))\n",
    "    \n",
    "    \n",
    "    #list of the averages\n",
    "    avg = []\n",
    "    #list of the standard deviations\n",
    "    stdev = []\n",
    "    for k in value_dict:\n",
    "        x = round(sum(value_dict[k])/len(value_dict[k]),3)\n",
    "        avg.append(x)\n",
    "        y = round(np.std(value_dict[k]),3)\n",
    "        stdev.append(y)\n",
    "                   \n",
    "    return avg, stdev\n"
   ]
  },
  {
   "cell_type": "code",
   "execution_count": 84,
   "id": "904b1dcd",
   "metadata": {},
   "outputs": [],
   "source": [
    "fws = get_all_fws\n",
    "iza_values =pd.read_csv('../data/iza_data.csv')\n",
    "fws = iza_values['Framework'].values\n",
    "rings = iza_values['Rings'].values\n",
    "ntsite = iza_values['Number of T Sites'].values\n",
    "accessiblevolume = iza_values['Accessible Volume %'].values\n",
    "mdiametera = iza_values['Max diameter along a'].values\n",
    "mdiameterb = iza_values['Max diameter along b'].values\n",
    "mdiameterc = iza_values['Max diameter along c'].values\n",
    "alpha = iza_values['alpha'].values\n",
    "beta = iza_values['beta'].values\n",
    "gamma = iza_values['gamma'].values\n",
    "mdiameter = iza_values['Max Diameter (Å)'].values\n",
    "a = iza_values['a (Å)'].values\n",
    "b = iza_values['b'].values\n",
    "c = iza_values['c'].values\n",
    "density = iza_values['Density (T sites/ 1000 Å^3)'].values\n",
    "volume = iza_values['Volume (Å^3)'].values\n",
    "\n",
    "values_list= [ntsite,accessiblevolume,mdiametera,mdiameterb,mdiameterc,alpha,beta,gamma,mdiameter,a,b,c,density,volume]\n",
    "values_str= ['ntsite','accessiblevolume','mdiametera','mdiameterb','mdiameterc','alpha','beta','gamma','mdiameter','a','b','c','density','volume']"
   ]
  },
  {
   "cell_type": "code",
   "execution_count": null,
   "id": "8eb5285d",
   "metadata": {},
   "outputs": [],
   "source": []
  },
  {
   "cell_type": "code",
   "execution_count": 71,
   "id": "f2c9fb20",
   "metadata": {},
   "outputs": [],
   "source": [
    "def isNaN(num):\n",
    "    return num!= num"
   ]
  },
  {
   "cell_type": "code",
   "execution_count": 72,
   "id": "c581779a",
   "metadata": {},
   "outputs": [
    {
     "name": "stdout",
     "output_type": "stream",
     "text": [
      "3\n",
      "[ 0  0  0  0  0  0  0  0  0  0  0  0  0  0  0  0  0  0  0  0  0  0  0  0\n",
      "  0  0  0  0  0  0  0  0  0  0  0  0  2  0  0 -1  0  0  0  0  0  0  0  0\n",
      "  0  0  0  1  0  0  0  0  0  0  0  1  0  0  0  0  0  0  0  0  0  0  0  0\n",
      "  0  0  0  0  0  0  0  0 -1  0  0  0  0  0  0  0 -1  0 -1  0  0  0  0  0\n",
      "  0  0  0  0  0  0  0  0  0  2 -1  0 -1 -1  0  0 -1  0  0  0  0  3  0  0\n",
      "  0  0  0  0  0 -1  0  0  0  0  0  0  0  0  0  0  0 -1  0  0  0 -1  0  0\n",
      " -1  1  0  0 -1  2  0  2  0  0  0 -1  0  0  0  0  0 -1  0 -1  0 -1  0  0\n",
      "  0  0 -1  0  3  0  0  0  0 -1  0  0  0  0  0  0  0  0  0  0  0  0 -1  0\n",
      "  0  0  0  0  0  0  0  0  0  2  0  0  0  0  0 -1  0  0  0  0  0 -1  1  0\n",
      "  0  0  0  0  0  0  0  0  0  0  0 -1  0 -1  3 -1  0  0  0  0  0  0 -1  0\n",
      "  0  0  0 -1  0  0  0  0  0  0  0  0  0]\n",
      "Vertex\n",
      "[14.447619047619048, 14.8, 16.807692307692307, 16.0, 16.0]\n",
      "[6.265523126232275, 7.0823724838503095, 8.166626413779959, 5.612486080160912, 1.632993161855452]\n",
      "3\n",
      "[ 0  0  0  0  0  0  0  0  0  0  0  0  0  0  0  0  0 -1  0 -1  0  0  0  0\n",
      "  0  0  0  0  0  0  0  0  0  0  0  0  1  0  0 -1  0  0  0 -1  0  0  0  0\n",
      "  0  0  0  2  0  0  0  0  0  0  0  2  0  0  0  0  0  0  0  0  0  0  0  0\n",
      "  0  0  0  0  0  0 -1  0 -1  0  0  0  0  0  0  0 -1  0 -1  0  0  0  0  0\n",
      "  0  0  0  0  0  0  0  0  0  1 -1  0 -1 -1  0  0  0  0  0  0  0  3  0  0\n",
      "  0  0  0  0  0 -1  0  0  0  0  0 -1  0  0  0  0  0 -1  0  0  0 -1  0  0\n",
      " -1  2  0  0 -1  1  0  1  0  0  0 -1  0  0  0  0  0 -1  0 -1  0 -1  0  0\n",
      "  0  0 -1  0  3  0  0  0  0 -1  0  0  0  0  0  0  0  0  0  0  0  0 -1  0\n",
      "  0  0  0  0  0  0  0  0  0 -1  0  0  0  0  0 -1  0  0  0  0  0  0  2  0\n",
      "  0  0  0  0  0  0  0  0  0  0  0 -1  0 -1  3 -1 -1  0  0  0  0  0 -1  0\n",
      "  0  0  0 -1  0  0  0  0  0 -1  0  0  0]\n",
      "Sastre\n",
      "[14.482926829268292, 16.46875, 12.25, 16.0, 16.0]\n",
      "[6.322700196524728, 7.721659370724663, 5.494315243958978, 5.612486080160912, 1.632993161855452]\n",
      "3\n",
      "[ 0  0  0  0  0  0  0  0  0  0  0  0  0  0  0  0  0 -1  0 -1  0  0  0  0\n",
      "  0  0  0  0  0  0  0 -1  0  0  0  0  1  0  0 -1  0  0  0 -1  0  0  0  0\n",
      " -1  0  0 -1  0  0  0  2  0  0  0 -1  0  0  0  0  0  0 -1  0  0  0  0  0\n",
      "  0  0  0  0  0  0  0  0 -1  0  0 -1 -1  0  0  0 -1  0 -1  0  0  0  0  0\n",
      "  0  0  0  0  0  0  0  0  2  1 -1  0 -1 -1  0  0  0  0  0  0  0  3  0  0\n",
      "  2  0  0  0  0 -1  0  0  0  0  0 -1  0  0  0  0  0 -1  0  0  0 -1  0  0\n",
      " -1 -1  0  0 -1  1  0  1  0  0  0 -1  0  0  0  0  0 -1  0 -1  0 -1  0  0\n",
      "  0  0 -1  0  3  0  0  0  0 -1  0  0  0  0  0  0 -1  0  0  0  0  0 -1  0\n",
      "  0  0  0  0  0  0  0  0  0 -1  0  0  0  0  0 -1  0  0  0  0  0  0 -1  0\n",
      "  0  0  0  0  0  0  0  0  0  0  0 -1  0 -1  3 -1  0  0  0  0  0  0 -1  0\n",
      "  0  0  0 -1  0  0  0  0  0  0  0  0  0]\n",
      "Crum\n",
      "[14.5678391959799, 15.615384615384615, 12.25, 17.333333333333332, 16.0]\n",
      "[6.3010066081261655, 7.638013517472762, 5.494315243958978, 6.128258770283412, 1.632993161855452]\n",
      "2\n",
      "[ 0 -1  0  1  2  1  0  1  0  1  0  0  0  0  0  0  1 -1  0 -1 -1 -1  0  0\n",
      "  0  0  2  0  0  0  0 -1  0  0  0  0 -1  0  0 -1  0  0  0 -1  0  0  0  0\n",
      " -1  0  0 -1  0  0  0 -1  0  0  0 -1  0  0  0  0  0  0  0  0  0  0  0  0\n",
      "  0  0  0  0  0  0  0  0 -1  0  0 -1  0  0  0  0 -1 -1 -1  0  0  0  0  0\n",
      " -1  0  0  0  0  0  0  0  0 -1  2  0 -1 -1  0 -1  0  0  0  0  0 -1 -1  0\n",
      "  0  0 -1  0  0 -1  0  0  0  0  0  0  0  0  0  0 -1 -1  0  0  0  2  0  0\n",
      " -1 -1  0  0 -1 -1  0 -1  0  0  0 -1  0  0  0  0  0  0  0 -1  1 -1  0  0\n",
      "  0 -1 -1  0 -1  0  0  0  0 -1  1  0 -1  0  0  0 -1  0  0  0  0  0 -1  0\n",
      "  0  0  0  0  0  0  0  0  0 -1  0  0  0  0  0 -1  0  0  0  0  0  0 -1  0\n",
      "  0  0  0  0 -1  0  0 -1  0  0  0 -1  1 -1 -1 -1  0  0  0  0  0  0 -1  0\n",
      "  0  0  0  0  0  0  0  0  0 -1  0  0  0]\n",
      "Goetzke\n",
      "[14.648351648351648, 15.148148148148149, 14.75, 13.75]\n",
      "[6.309549062401285, 7.048528628721314, 7.275816105427624, 5.84700778176325]\n"
     ]
    }
   ],
   "source": [
    "x, y = DBproperties(scaledA,a,.26,3)\n",
    "print('Vertex')\n",
    "print(x)\n",
    "print(y)\n",
    "\n",
    "x, y = DBproperties(scaledB,a,.26,3)\n",
    "print('Sastre')\n",
    "print(x)\n",
    "print(y)\n",
    "\n",
    "x, y = DBproperties(scaledC,a,.26,3)\n",
    "print('Crum')\n",
    "print(x)\n",
    "print(y)\n",
    "\n",
    "x, y = DBproperties(scaledD,a,.26,3)\n",
    "print('Goetzke')\n",
    "print(x)\n",
    "print(y)"
   ]
  },
  {
   "cell_type": "code",
   "execution_count": 74,
   "id": "f135bc3e",
   "metadata": {},
   "outputs": [
    {
     "name": "stdout",
     "output_type": "stream",
     "text": [
      "Vertex\n",
      "[15.423809523809524, 14.4, 13.73076923076923, 22.5, 11.333333333333334]\n",
      "[7.350827926282458, 4.923413450036469, 5.266422609380272, 7.088723439378913, 4.784233364802441]\n",
      "Sastre\n",
      "[15.341463414634147, 14.46875, 15.0, 22.5, 11.333333333333334]\n",
      "[7.4500278477055595, 4.828200848918777, 5.338539126015656, 7.088723439378913, 4.784233364802441]\n",
      "Crum\n",
      "[15.28140703517588, 15.512820512820513, 15.0, 17.333333333333332, 11.333333333333334]\n",
      "[7.4050916905110045, 6.234197642827474, 5.338539126015656, 6.128258770283412, 4.784233364802441]\n",
      "Goetzke\n",
      "[15.478021978021978, 14.981481481481481, 13.875, 13.75]\n",
      "[7.5938856578257985, 6.129741522980064, 5.2544623892459255, 0.82915619758885]\n"
     ]
    }
   ],
   "source": [
    "x, y = DBproperties(scaledA,b,.26,3)\n",
    "print('Vertex')\n",
    "print(x)\n",
    "print(y)\n",
    "\n",
    "x, y = DBproperties(scaledB,b,.26,3)\n",
    "print('Sastre')\n",
    "print(x)\n",
    "print(y)\n",
    "\n",
    "x, y = DBproperties(scaledC,b,.26,3)\n",
    "print('Crum')\n",
    "print(x)\n",
    "print(y)\n",
    "\n",
    "x, y = DBproperties(scaledD,b,.26,3)\n",
    "print('Goetzke')\n",
    "print(x)\n",
    "print(y)"
   ]
  },
  {
   "cell_type": "code",
   "execution_count": 77,
   "id": "17c78682",
   "metadata": {},
   "outputs": [
    {
     "name": "stdout",
     "output_type": "stream",
     "text": [
      "Vertex\n",
      "[16.248803827751196, 17.2, 16.153846153846153, 16.5, 16.0]\n",
      "[1.9157646179957224, 2.039607805437114, 1.7027648939368198, 2.5, 1.4142135623730951]\n",
      "Sastre\n",
      "[16.21078431372549, 16.4375, 17.25, 16.5, 16.0]\n",
      "[1.917331011688225, 1.6944302139657448, 2.277608394786075, 2.5, 1.4142135623730951]\n",
      "Crum\n",
      "[16.207070707070706, 16.615384615384617, 17.25, 14.0, 16.0]\n",
      "[1.8647583603446471, 1.8482893631733432, 2.277608394786075, 2.943920288775949, 1.4142135623730951]\n",
      "Goetzke\n",
      "[16.08839779005525, 16.48148148148148, 17.75, 18.0]\n",
      "[1.8185441863713876, 2.105906514937703, 1.0897247358851685, 1.8708286933869707]\n"
     ]
    }
   ],
   "source": [
    "x, y = DBproperties(scaledA,density,.26,3)\n",
    "print('Vertex')\n",
    "print(x)\n",
    "print(y)\n",
    "\n",
    "x, y = DBproperties(scaledB,density,.26,3)\n",
    "print('Sastre')\n",
    "print(x)\n",
    "print(y)\n",
    "\n",
    "x, y = DBproperties(scaledC,density,.26,3)\n",
    "print('Crum')\n",
    "print(x)\n",
    "print(y)\n",
    "\n",
    "x, y = DBproperties(scaledD,density,.26,3)\n",
    "print('Goetzke')\n",
    "print(x)\n",
    "print(y)"
   ]
  },
  {
   "cell_type": "code",
   "execution_count": 78,
   "id": "a01d711a",
   "metadata": {},
   "outputs": [
    {
     "name": "stdout",
     "output_type": "stream",
     "text": [
      "Vertex\n",
      "[4600.733333333334, 3323.2, 4116.807692307692, 3860.75, 2453.0]\n",
      "[8336.626131277473, 2033.7479096485877, 3622.4047900555997, 2745.3107633745217, 1426.0385689033799]\n",
      "Sastre\n",
      "[4662.336585365853, 3800.1875, 3105.5, 3860.75, 2453.0]\n",
      "[8428.103749860797, 3350.581558079694, 2221.0800863543845, 2745.3107633745217, 1426.0385689033799]\n",
      "Crum\n",
      "[4638.572864321608, 3626.5128205128203, 3105.5, 9439.333333333334, 2453.0]\n",
      "[8488.845958195803, 3226.7772989493906, 2221.0800863543845, 6350.082904095732, 1426.0385689033799]\n",
      "Goetzke\n",
      "[4865.741758241758, 3748.925925925926, 1865.875, 2418.75]\n",
      "[8875.245886970699, 3183.1722114655317, 895.9100732634945, 817.3393955389646]\n"
     ]
    }
   ],
   "source": [
    "x, y = DBproperties(scaledA,volume,.26,3)\n",
    "print('Vertex')\n",
    "print(x)\n",
    "print(y)\n",
    "\n",
    "x, y = DBproperties(scaledB,volume,.26,3)\n",
    "print('Sastre')\n",
    "print(x)\n",
    "print(y)\n",
    "\n",
    "x, y = DBproperties(scaledC,volume,.26,3)\n",
    "print('Crum')\n",
    "print(x)\n",
    "print(y)\n",
    "\n",
    "x, y = DBproperties(scaledD,volume,.26,3)\n",
    "print('Goetzke')\n",
    "print(x)\n",
    "print(y)"
   ]
  },
  {
   "cell_type": "code",
   "execution_count": 79,
   "id": "e2053b2c",
   "metadata": {},
   "outputs": [
    {
     "name": "stdout",
     "output_type": "stream",
     "text": [
      "Vertex\n",
      "[11.67142857142857, 10.8, 12.26923076923077, 14.75, 9.333333333333334]\n",
      "[8.058219279666176, 6.337191807101944, 7.954474755699038, 5.356071321407137, 7.760297817881877]\n",
      "Sastre\n",
      "[11.77560975609756, 11.46875, 10.75, 14.75, 9.333333333333334]\n",
      "[8.098081088203818, 7.591048902325686, 7.084313657652377, 5.356071321407137, 7.760297817881877]\n",
      "Crum\n",
      "[11.773869346733669, 11.205128205128204, 10.75, 20.0, 9.333333333333334]\n",
      "[7.923257578565558, 7.656669581882684, 7.084313657652377, 12.192894105447921, 7.760297817881877]\n",
      "Goetzke\n",
      "[12.126373626373626, 11.166666666666666, 8.625, 8.0]\n",
      "[7.782797812770757, 8.968566506704692, 4.0600954422279285, 6.442049363362563]\n"
     ]
    }
   ],
   "source": [
    "x, y = DBproperties(scaledA,accessiblevolume,.26,3)\n",
    "print('Vertex')\n",
    "print(x)\n",
    "print(y)\n",
    "\n",
    "x, y = DBproperties(scaledB,accessiblevolume,.26,3)\n",
    "print('Sastre')\n",
    "print(x)\n",
    "print(y)\n",
    "\n",
    "x, y = DBproperties(scaledC,accessiblevolume,.26,3)\n",
    "print('Crum')\n",
    "print(x)\n",
    "print(y)\n",
    "\n",
    "x, y = DBproperties(scaledD,accessiblevolume,.26,3)\n",
    "print('Goetzke')\n",
    "print(x)\n",
    "print(y)"
   ]
  },
  {
   "cell_type": "code",
   "execution_count": 80,
   "id": "4d746ce4",
   "metadata": {},
   "outputs": [
    {
     "name": "stdout",
     "output_type": "stream",
     "text": [
      "Vertex\n",
      "[6.5476190476190474, 6.0, 6.461538461538462, 7.0, 5.666666666666667]\n",
      "[2.197426860502127, 2.280350850198276, 1.8652854850741756, 0.7071067811865476, 0.9428090415820634]\n",
      "Sastre\n",
      "[6.565853658536585, 6.34375, 6.0, 7.0, 5.666666666666667]\n",
      "[2.213441174335273, 1.7608480733726009, 2.5495097567963922, 0.7071067811865476, 0.9428090415820634]\n",
      "Crum\n",
      "[6.577889447236181, 6.282051282051282, 6.0, 7.666666666666667, 5.666666666666667]\n",
      "[2.2084155096256164, 1.8109172905650848, 2.5495097567963922, 0.9428090415820634, 0.9428090415820634]\n",
      "Goetzke\n",
      "[6.670329670329671, 6.2592592592592595, 5.625, 5.25]\n",
      "[2.1664522325527646, 2.1010154968419017, 1.5761900266148114, 1.299038105676658]\n"
     ]
    }
   ],
   "source": [
    "x, y = DBproperties(scaledA,mdiameter,.26,3)\n",
    "print('Vertex')\n",
    "print(x)\n",
    "print(y)\n",
    "\n",
    "x, y = DBproperties(scaledB,mdiameter,.26,3)\n",
    "print('Sastre')\n",
    "print(x)\n",
    "print(y)\n",
    "\n",
    "x, y = DBproperties(scaledC,mdiameter,.26,3)\n",
    "print('Crum')\n",
    "print(x)\n",
    "print(y)\n",
    "\n",
    "x, y = DBproperties(scaledD,mdiameter,.26,3)\n",
    "print('Goetzke')\n",
    "print(x)\n",
    "print(y)"
   ]
  },
  {
   "cell_type": "code",
   "execution_count": null,
   "id": "f210de44",
   "metadata": {},
   "outputs": [],
   "source": [
    "#mdiameter is slightly better "
   ]
  },
  {
   "cell_type": "code",
   "execution_count": null,
   "id": "68bca2da",
   "metadata": {},
   "outputs": [
    {
     "name": "stdout",
     "output_type": "stream",
     "text": [
      "ntsite\n",
      "Vertex\n",
      "[4.227, 5.455, 5.0, 7.485, 7.0, 2.667, 3.5, 7.0, 7.0, 4.667, 2.5, 7.0, 9.0]\n",
      "[3.138, 3.627, 3.674, 11.185, 1.0, 0.943, 1.5, 2.16, 4.0, 1.247, 0.5, 1.0, 7.789]\n",
      "Sastre\n",
      "[4.341, 3.222, 5.19, 7.582, 6.667, 5.333, 6.333, 7.0, 4.0, 2.0]\n",
      "[3.25, 1.315, 3.445, 11.155, 6.65, 2.494, 3.3, 2.16, 0.0, 0.0]\n",
      "Crum\n",
      "[4.268, 5.174, 7.62, 6.667, 5.333, 6.333, 7.5, 4.0, 2.0, 8.333]\n",
      "[3.121, 3.377, 11.455, 6.65, 2.494, 3.3, 2.5, 0.0, 0.0, 5.793]\n",
      "Goetzke\n",
      "[4.243, 4.892, 3.375, 3.667, 12.5, 4.0, 7.611, 7.0, 3.0, 7.0, 6.0, 6.0, 10.333]\n",
      "[2.399, 4.417, 1.317, 0.471, 10.5, 3.0, 11.384, 1.0, 2.0, 2.0, 4.0, 2.0, 4.028]\n",
      "\n",
      "accessiblevolume\n",
      "Vertex\n",
      "[10.031, 12.121, 15.0, 13.234, 17.5, 12.667, 8.5, 13.667, 10.5, 9.333, 9.0, 10.0, 12.0]\n",
      "[6.661, 7.753, 13.657, 9.055, 0.5, 4.497, 6.5, 5.793, 3.5, 7.76, 3.0, 0.0, 0.816]\n",
      "Sastre\n",
      "[10.31, 8.0, 11.415, 13.063, 13.333, 12.0, 20.0, 13.667, 12.5, 15.5]\n",
      "[6.927, 4.216, 7.235, 9.013, 5.558, 7.789, 12.193, 5.793, 6.5, 2.5]\n",
      "Crum\n",
      "[10.26, 10.8, 13.36, 13.333, 12.0, 20.0, 17.5, 12.5, 15.5, 8.0]\n",
      "[6.624, 7.38, 9.164, 5.558, 7.789, 12.193, 2.5, 6.5, 2.5, 3.742]\n",
      "Goetzke\n",
      "[11.043, 10.406, 8.625, 9.667, 5.0, 10.0, 13.115, 17.5, 6.5, 36.5, 25.5, 6.0, 10.0]\n",
      "[6.883, 7.481, 4.06, 6.65, 5.0, 4.0, 8.257, 0.5, 0.5, 3.5, 11.5, 6.0, 4.243]\n",
      "\n",
      "mdiametera\n",
      "Vertex\n",
      "[2.792, 2.939, 3.5, 3.255, 5.0, 2.667, 2.5, 3.0, 2.0, 3.0, 3.0, 5.0, 2.0]\n",
      "[1.45, 1.391, 1.5, 1.833, 1.0, 0.471, 0.5, 2.16, 1.0, 1.633, 0.0, 0.0, 1.414]\n",
      "Sastre\n",
      "[2.851, 2.333, 2.902, 3.158, 4.0, 4.0, 4.0, 3.0, 4.5, 2.5]\n",
      "[1.474, 0.943, 1.358, 1.837, 1.633, 1.633, 1.414, 2.16, 0.5, 0.5]\n",
      "Crum\n",
      "[2.781, 2.911, 3.18, 4.0, 4.0, 4.0, 4.0, 4.5, 2.5, 2.667]\n",
      "[1.452, 1.363, 1.87, 1.633, 1.633, 1.414, 2.0, 0.5, 0.5, 0.471]\n",
      "Goetzke\n",
      "[2.957, 2.781, 2.25, 3.333, 2.5, 3.5, 3.195, 5.0, 2.0, 7.5, 4.5, 1.5, 2.0]\n",
      "[1.479, 1.463, 0.968, 1.7, 1.5, 1.5, 1.694, 1.0, 1.0, 1.5, 1.5, 0.5, 0.816]\n",
      "\n",
      "mdiameterb\n",
      "Vertex\n",
      "[2.729, 3.0, 3.5, 3.277, 4.0, 2.0, 2.0, 2.667, 4.0, 3.333, 3.0, 3.0, 3.333]\n",
      "[1.403, 1.614, 1.5, 1.842, 0.0, 0.816, 1.0, 2.357, 1.0, 1.247, 0.0, 0.0, 0.943]\n",
      "Sastre\n",
      "[2.77, 2.222, 3.049, 3.242, 4.0, 3.0, 4.0, 2.667, 3.0, 2.5]\n",
      "[1.444, 0.916, 1.529, 1.811, 1.633, 1.414, 1.414, 2.357, 1.0, 0.5]\n",
      "Crum\n",
      "[2.729, 2.978, 3.281, 4.0, 3.0, 4.0, 3.5, 3.0, 2.5, 2.333]\n",
      "[1.41, 1.556, 1.83, 1.633, 1.414, 1.414, 2.5, 1.0, 0.5, 0.943]\n",
      "Goetzke\n",
      "[2.884, 2.828, 2.25, 3.0, 2.5, 3.5, 3.253, 4.0, 2.0, 7.5, 4.5, 1.5, 1.667]\n",
      "[1.45, 1.635, 0.968, 0.816, 1.5, 1.5, 1.649, 0.0, 1.0, 1.5, 1.5, 0.5, 0.943]\n",
      "\n",
      "mdiameterc\n",
      "Vertex\n",
      "[3.198, 3.727, 3.0, 3.872, 3.0, 3.333, 3.0, 5.667, 4.0, 3.333, 4.5, 1.0, 3.333]\n",
      "[1.924, 1.638, 1.732, 2.17, 1.0, 0.471, 0.0, 1.7, 1.0, 2.055, 2.5, 0.0, 2.055]\n",
      "Sastre\n",
      "[3.138, 3.778, 3.707, 3.811, 5.0, 2.333, 3.333, 5.667, 3.0, 3.5]\n",
      "[1.889, 2.096, 1.656, 2.183, 0.816, 1.247, 1.886, 1.7, 2.0, 0.5]\n",
      "Crum\n",
      "[3.26, 3.622, 3.843, 5.0, 2.333, 3.333, 6.5, 3.0, 3.5, 2.333]\n",
      "[1.911, 1.703, 2.213, 0.816, 1.247, 1.886, 1.5, 2.0, 0.5, 0.471]\n",
      "Goetzke\n",
      "[3.159, 3.547, 4.0, 3.0, 2.5, 3.5, 3.828, 3.0, 4.0, 7.0, 4.0, 3.5, 3.0]\n",
      "[1.961, 1.793, 2.121, 1.633, 1.5, 1.5, 2.145, 1.0, 1.0, 1.0, 2.0, 1.5, 1.414]\n",
      "\n",
      "alpha\n",
      "Vertex\n",
      "[90.0, 90.061, 90.0, 89.809, 90.0, 90.0, 90.0, 90.0, 90.0, 90.0, 90.0, 90.0, 90.0]\n",
      "[0.0, 0.343, 0.0, 1.847, 0.0, 0.0, 0.0, 0.0, 0.0, 0.0, 0.0, 0.0, 0.0]\n",
      "Sastre\n",
      "[90.0, 90.0, 90.049, 89.811, 90.0, 90.0, 90.0, 90.0, 90.0, 90.0]\n",
      "[0.0, 0.0, 0.309, 1.837, 0.0, 0.0, 0.0, 0.0, 0.0, 0.0]\n",
      "Crum\n",
      "[90.0, 90.044, 89.798, 90.0, 90.0, 90.0, 90.0, 90.0, 90.0, 90.0]\n",
      "[0.0, 0.295, 1.897, 0.0, 0.0, 0.0, 0.0, 0.0, 0.0, 0.0]\n",
      "Goetzke\n",
      "[90.0, 90.031, 90.0, 90.0, 90.0, 90.0, 89.793, 90.0, 90.0, 90.0, 90.0, 90.0, 90.0]\n",
      "[0.0, 0.248, 0.0, 0.0, 0.0, 0.0, 1.919, 0.0, 0.0, 0.0, 0.0, 0.0, 0.0]\n",
      "\n",
      "beta\n",
      "Vertex\n",
      "[92.646, 93.818, 90.0, 92.723, 90.0, 90.0, 93.0, 90.0, 99.5, 90.0, 90.0, 90.0, 95.0]\n",
      "[7.331, 8.43, 0.0, 7.346, 0.0, 0.0, 3.0, 0.0, 9.5, 0.0, 0.0, 0.0, 7.071]\n",
      "Sastre\n",
      "[92.977, 90.111, 92.927, 93.116, 90.0, 90.0, 90.0, 90.0, 90.0, 90.0]\n",
      "[7.653, 0.314, 7.343, 7.744, 0.0, 0.0, 0.0, 0.0, 0.0, 0.0]\n",
      "Crum\n",
      "[92.708, 92.667, 93.191, 90.0, 90.0, 90.0, 90.0, 90.0, 90.0, 94.0]\n",
      "[7.334, 7.058, 7.911, 0.0, 0.0, 0.0, 0.0, 0.0, 0.0, 5.657]\n",
      "Goetzke\n",
      "[92.826, 92.922, 90.125, 90.0, 96.0, 90.0, 93.057, 90.0, 90.0, 90.0, 90.0, 90.0, 95.0]\n",
      "[7.423, 7.511, 0.331, 0.0, 6.0, 0.0, 7.899, 0.0, 0.0, 0.0, 0.0, 0.0, 5.099]\n",
      "\n",
      "gamma\n",
      "Vertex\n",
      "[96.875, 94.97, 105.0, 96.702, 105.0, 100.0, 105.0, 90.0, 90.0, 90.0, 105.0, 90.0, 100.0]\n",
      "[12.609, 10.845, 15.0, 12.496, 15.0, 14.142, 15.0, 0.0, 0.0, 0.0, 15.0, 0.0, 14.142]\n",
      "Sastre\n",
      "[97.241, 93.333, 96.195, 96.316, 100.0, 100.0, 110.0, 90.0, 90.0, 105.0]\n",
      "[12.838, 9.428, 11.917, 12.23, 14.142, 14.142, 14.142, 0.0, 0.0, 15.0]\n"
     ]
    }
   ],
   "source": [
    "counter  = 0 \n",
    "for i in values_list:\n",
    "    print(values_str[counter])\n",
    "    x, y = DBproperties(scaledA,i,.2,2)\n",
    "    print('Vertex')\n",
    "    print(x)\n",
    "    print(y)\n",
    "\n",
    "    x, y = DBproperties(scaledB,i,.2,2)\n",
    "    print('Sastre')\n",
    "    print(x)\n",
    "    print(y)\n",
    "\n",
    "    x, y = DBproperties(scaledC,i,.2,2)\n",
    "    print('Crum')\n",
    "    print(x)\n",
    "    print(y)\n",
    "\n",
    "    x, y = DBproperties(scaledD,i,.2,2)\n",
    "    print('Goetzke')\n",
    "    print(x)\n",
    "    print(y)\n",
    "    print('')\n",
    "    counter = counter + 1"
   ]
  },
  {
   "cell_type": "code",
   "execution_count": null,
   "id": "c87a486b",
   "metadata": {},
   "outputs": [],
   "source": []
  }
 ],
 "metadata": {
  "kernelspec": {
   "display_name": "Python 3",
   "language": "python",
   "name": "python3"
  },
  "language_info": {
   "codemirror_mode": {
    "name": "ipython",
    "version": 3
   },
   "file_extension": ".py",
   "mimetype": "text/x-python",
   "name": "python",
   "nbconvert_exporter": "python",
   "pygments_lexer": "ipython3",
   "version": "3.8.8"
  }
 },
 "nbformat": 4,
 "nbformat_minor": 5
}
