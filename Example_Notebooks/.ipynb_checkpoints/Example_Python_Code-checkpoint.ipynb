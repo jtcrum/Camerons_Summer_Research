{
 "cells": [
  {
   "cell_type": "code",
   "execution_count": 1,
   "metadata": {},
   "outputs": [],
   "source": [
    "# Some modules we might want to use\n",
    "# I won't use them all in this example though\n",
    "\n",
    "import matplotlib.pyplot as plt\n",
    "\n",
    "import numpy as np\n",
    "\n",
    "import pandas as pd\n",
    "\n",
    "from zse.collections import *\n",
    "from zse.utilities import *\n",
    "\n",
    "from ase.io import read, write\n",
    "from matplotlib import cm\n",
    "\n",
    "from collections import Counter"
   ]
  },
  {
   "cell_type": "markdown",
   "metadata": {},
   "source": [
    "Here is an example function that will help get data out of the .txt files I have provided."
   ]
  },
  {
   "cell_type": "code",
   "execution_count": 2,
   "metadata": {},
   "outputs": [],
   "source": [
    "def get_fw_data(file,code):\n",
    "    \n",
    "    # file is the file we want to read from\n",
    "    # code is the IZA framework code you want data on\n",
    "    \n",
    "    file = open(file,'r')\n",
    "    data = file.readlines()\n",
    "    file.close()\n",
    "    \n",
    "    for i,line in enumerate(data):\n",
    "        fields = line.split()\n",
    "        if fields[0] == code:\n",
    "            start = i\n",
    "            break\n",
    "    \n",
    "    # go through fw chunk and get data\n",
    "    \n",
    "    t_sites = {}\n",
    "    o_sites = {}\n",
    "    for i,line in enumerate(data[start+1:]):\n",
    "        line = line.rstrip(' \\n')\n",
    "\n",
    "        # get the t site rings\n",
    "        \n",
    "        if 'T' in line and ':' in line:\n",
    "            fields = line.split(':')\n",
    "            t_sites[fields[0]]=fields[1]                \n",
    "        \n",
    "        # get the o site rings\n",
    "        \n",
    "        if 'O' in line and ':' in line:\n",
    "            fields = line.split(':')\n",
    "            o_sites[fields[0]]=fields[1]        \n",
    "        \n",
    "        fields = line.split()\n",
    "        if fields[0] == 'Framework':\n",
    "            end = i+start-1\n",
    "            break\n",
    "\n",
    "    return(t_sites,o_sites)    "
   ]
  },
  {
   "cell_type": "code",
   "execution_count": 3,
   "metadata": {},
   "outputs": [],
   "source": [
    "'''\n",
    "We can use the function to get the T-site rings \n",
    "and Oxygen rings for a given framework.\n",
    "I will get the data for TON framework.\n",
    "\n",
    "'''\n",
    "\n",
    "file = '../Data/sastre_rings.txt'\n",
    "code = 'CHA'\n",
    "tsites, osites = get_fw_data(file,code)"
   ]
  },
  {
   "cell_type": "code",
   "execution_count": 4,
   "metadata": {},
   "outputs": [
    {
     "name": "stdout",
     "output_type": "stream",
     "text": [
      "T1 4_4_4_6_8_8\n"
     ]
    }
   ],
   "source": [
    "# The tsites and osites obejcts are dictionaries containing\n",
    "# the desire information. \n",
    "# Here's an example of how to loop through the dictionaries\n",
    "\n",
    "#site name then how many types of rings there\n",
    "for t in tsites:\n",
    "    print(t,tsites[t])"
   ]
  },
  {
   "cell_type": "code",
   "execution_count": 5,
   "metadata": {},
   "outputs": [
    {
     "name": "stdout",
     "output_type": "stream",
     "text": [
      "T1 4_4_4_6_8_8_8_8_8_8_12\n"
     ]
    }
   ],
   "source": [
    "file = '../Data/goetzke_rings.txt'\n",
    "code = 'CHA'\n",
    "tsites, osites = get_fw_data(file,code)\n",
    "\n",
    "#site name then how many types of rings there\n",
    "for t in tsites:\n",
    "    print(t,tsites[t])"
   ]
  },
  {
   "cell_type": "code",
   "execution_count": 28,
   "metadata": {},
   "outputs": [
    {
     "name": "stdout",
     "output_type": "stream",
     "text": [
      "{'T1': '4_4_4_6_8_8_12'}\n",
      "14\n",
      "T1 4_4_4_6_8_8_12\n"
     ]
    }
   ],
   "source": [
    "file = '../Data/crum_rings.txt'\n",
    "code = 'CHA'\n",
    "tsites, osites = get_fw_data(file,code)\n",
    "\n",
    "print(tsites)\n",
    "#print(osites)\n",
    "#site name then how many types of rings there\n",
    "for t in tsites:\n",
    "    print(len(tsites[t]))\n",
    "    print(t,tsites[t])"
   ]
  },
  {
   "cell_type": "code",
   "execution_count": 7,
   "metadata": {},
   "outputs": [
    {
     "name": "stdout",
     "output_type": "stream",
     "text": [
      "5\n",
      "8\n",
      "8\n",
      "5\n"
     ]
    },
    {
     "ename": "NameError",
     "evalue": "name 'O1' is not defined",
     "output_type": "error",
     "traceback": [
      "\u001b[0;31m---------------------------------------------------------------------------\u001b[0m",
      "\u001b[0;31mNameError\u001b[0m                                 Traceback (most recent call last)",
      "\u001b[0;32m<ipython-input-7-814fffd5db45>\u001b[0m in \u001b[0;36m<module>\u001b[0;34m\u001b[0m\n\u001b[1;32m      3\u001b[0m     \u001b[0mprint\u001b[0m\u001b[0;34m(\u001b[0m\u001b[0mlen\u001b[0m\u001b[0;34m(\u001b[0m\u001b[0mosites\u001b[0m\u001b[0;34m[\u001b[0m\u001b[0mo\u001b[0m\u001b[0;34m]\u001b[0m\u001b[0;34m)\u001b[0m\u001b[0;34m)\u001b[0m\u001b[0;34m\u001b[0m\u001b[0;34m\u001b[0m\u001b[0m\n\u001b[1;32m      4\u001b[0m     \u001b[0;31m#print(o,osites[o])\u001b[0m\u001b[0;34m\u001b[0m\u001b[0;34m\u001b[0m\u001b[0;34m\u001b[0m\u001b[0m\n\u001b[0;32m----> 5\u001b[0;31m \u001b[0mprint\u001b[0m\u001b[0;34m(\u001b[0m\u001b[0mosites\u001b[0m\u001b[0;34m[\u001b[0m\u001b[0mO1\u001b[0m\u001b[0;34m]\u001b[0m\u001b[0;34m)\u001b[0m\u001b[0;34m\u001b[0m\u001b[0;34m\u001b[0m\u001b[0m\n\u001b[0m",
      "\u001b[0;31mNameError\u001b[0m: name 'O1' is not defined"
     ]
    }
   ],
   "source": [
    "for o in osites:\n",
    "    #print(o)\n",
    "    print(len(osites[o]))\n",
    "    #print(o,osites[o])\n",
    "print(osites[O1])"
   ]
  },
  {
   "cell_type": "markdown",
   "metadata": {},
   "source": [
    "Let's say you want the data on all IZA frameworks.\n",
    "\n",
    "ZSE has a function to get a list of those frameworks for you.\n",
    "\n",
    "~~~\n",
    "zse.collections.get_all_fws()\n",
    "~~~"
   ]
  },
  {
   "cell_type": "code",
   "execution_count": 8,
   "metadata": {},
   "outputs": [
    {
     "name": "stdout",
     "output_type": "stream",
     "text": [
      "['ABW', 'ACO', 'AEI', 'AEL', 'AEN', 'AET', 'AFG', 'AFI', 'AFN', 'AFO']\n"
     ]
    }
   ],
   "source": [
    "# I will print the first 10 frameworks here:\n",
    "\n",
    "fws = get_all_fws()\n",
    "print(fws[:10])"
   ]
  },
  {
   "cell_type": "code",
   "execution_count": 29,
   "metadata": {},
   "outputs": [],
   "source": [
    "def counter(file,code):\n",
    "    '''takes in the file and code name and returns how many of each ring type is present\n",
    "    arguments: file: dataset\n",
    "                code: which zeolite is being observed\n",
    "    returns: number of each rings inside'''\n",
    "    \n",
    "    #call function to get data\n",
    "    tsites, osites = get_fw_data(file,code)\n",
    "    \n",
    "    for t in tsites:\n",
    "        #print('check 1')\n",
    "        #resets dictionary each tsite\n",
    "        tsite_dict = {1:0,2:0,3:0,4:0,5:0,6:0,7:0,8:0,9:0,10:0,11:0,12:0}\n",
    "        #restarts j to 1 to check for ring size\n",
    "        j = 1\n",
    "        #go through all of the one tsite\n",
    "        for i in range(0,len(tsites[t])-2,2):\n",
    "            #print('check 2')\n",
    "            #set yes to true\n",
    "            print('i is',i)\n",
    "            yes = True\n",
    "            while yes:\n",
    "                #print('check 3')\n",
    "                #print(tsites[t][i])\n",
    "                #print(int(tsites[t][i]) == j)\n",
    "                #print(tsite_dict[j])\n",
    "                #number of rings matches dictionary component\n",
    "                if int(tsites[t][i]) == j:\n",
    "                    print('check 4')\n",
    "                    tsite_dict[j] = tsite_dict[j] + 1\n",
    "                    #end while loop \n",
    "                    yes = False\n",
    "                #increase j \n",
    "                else:\n",
    "                    \n",
    "                    j = j + 1\n",
    "                    print('j is',j)\n",
    "        print(t,tsite_dict)"
   ]
  },
  {
   "cell_type": "code",
   "execution_count": 30,
   "metadata": {},
   "outputs": [
    {
     "name": "stdout",
     "output_type": "stream",
     "text": [
      "i is 0\n",
      "j is 2\n",
      "j is 3\n",
      "j is 4\n",
      "check 4\n",
      "i is 2\n",
      "check 4\n",
      "i is 4\n",
      "check 4\n",
      "i is 6\n",
      "j is 5\n",
      "j is 6\n",
      "check 4\n",
      "i is 8\n",
      "j is 7\n",
      "j is 8\n",
      "check 4\n",
      "i is 10\n",
      "check 4\n",
      "T1 {1: 0, 2: 0, 3: 0, 4: 3, 5: 0, 6: 1, 7: 0, 8: 2, 9: 0, 10: 0, 11: 0, 12: 0}\n"
     ]
    }
   ],
   "source": [
    "file = '../Data/crum_rings.txt'\n",
    "code = 'CHA'\n",
    "counter(file,code)"
   ]
  },
  {
   "cell_type": "code",
   "execution_count": 43,
   "metadata": {},
   "outputs": [
    {
     "name": "stdout",
     "output_type": "stream",
     "text": [
      "{'T1': '4_4_4_6_8_8_12'}\n",
      "{'O1': '4_4_6', 'O2': '4_8_8_12', 'O3': '4_6_8_12', 'O4': '4_4_8'}\n",
      "T1 4_4_4_6_8_8_12\n"
     ]
    }
   ],
   "source": [
    "file = '../Data/crum_rings.txt'\n",
    "code = 'CHA'\n",
    "tsites, osites = get_fw_data(file,code)\n",
    "\n",
    "print(tsites)\n",
    "print(osites)\n",
    "#site name then how many types of rings there\n",
    "for t in tsites:\n",
    "    print(t,tsites[t])"
   ]
  },
  {
   "cell_type": "code",
   "execution_count": null,
   "metadata": {},
   "outputs": [],
   "source": []
  }
 ],
 "metadata": {
  "kernelspec": {
   "display_name": "Python 3",
   "language": "python",
   "name": "python3"
  },
  "language_info": {
   "codemirror_mode": {
    "name": "ipython",
    "version": 3
   },
   "file_extension": ".py",
   "mimetype": "text/x-python",
   "name": "python",
   "nbconvert_exporter": "python",
   "pygments_lexer": "ipython3",
   "version": "3.8.8"
  }
 },
 "nbformat": 4,
 "nbformat_minor": 4
}
