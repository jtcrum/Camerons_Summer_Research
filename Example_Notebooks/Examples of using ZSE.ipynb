{
 "cells": [
  {
   "cell_type": "code",
   "execution_count": 8,
   "id": "c3f927f6",
   "metadata": {},
   "outputs": [],
   "source": [
    "from zse.collections import *\n",
    "from ase.visualize import view\n",
    "from zse.rings import *\n",
    "from zse.utilities import *"
   ]
  },
  {
   "cell_type": "code",
   "execution_count": 10,
   "id": "ab108e1c",
   "metadata": {},
   "outputs": [
    {
     "name": "stdout",
     "output_type": "stream",
     "text": [
      "['T1'] [36] [72]\n"
     ]
    }
   ],
   "source": [
    "z = framework('CHA')\n",
    "ts, tm, ti = get_tsites('CHA')\n",
    "#results mean 1 tsite\n",
    "#ti - first tsite is the 72nd atom (fills in o's and si's first)\n",
    "print(ts,tm,ti)\n",
    "#c,r,ra,a = get_unique_rings()\n",
    "#a whatever size unit cell was needed\n",
    "#indexes of the path for the ring\n",
    "#None means getting full set of the rings, if u want a subset you put crum or other, goetzke is the default since it is all encompassing\n",
    "c, p, ra, a = get_rings(z,ti[0],validation = None,max_ring=18) #checks for up to 18 memebered rings"
   ]
  },
  {
   "cell_type": "code",
   "execution_count": 12,
   "id": "f32b09d0",
   "metadata": {},
   "outputs": [
    {
     "name": "stdout",
     "output_type": "stream",
     "text": [
      "[72, 0, 81, 27, 91, 10, 100, 18]\n",
      "[72, 0, 81, 63, 1716, 375, 2157, 1782]\n",
      "[72, 1782, 2157, 2064, 2145, 1794, 1812, 1764]\n",
      "[72, 0, 81, 1335, 1371, 1299, 1383, 3066, 1806, 1734, 1812, 1764]\n",
      "[72, 0, 81, 63, 1716, 1635, 1722, 1665, 3438, 3357, 3447, 1788, 1806, 1734, 1812, 1764]\n",
      "[72, 0, 81, 1335, 1371, 1299, 1383, 3093, 3438, 3357, 3447, 2100, 2145, 2064, 2157, 1782]\n",
      "[72, 0, 81, 1335, 1371, 1353, 1722, 1665, 3438, 3357, 3447, 2100, 2145, 1794, 1812, 1764]\n",
      "[72, 18, 100, 49, 94, 33, 87, 1797, 2142, 2081, 2135, 2093, 2129, 2075, 2157, 1782]\n",
      "[72, 18, 100, 61, 79, 1753, 1832, 1775, 1820, 1756, 1810, 1792, 1825, 1758, 1812, 1764]\n",
      "[72, 1782, 2157, 375, 1716, 1635, 1722, 1665, 3438, 3093, 1383, 3066, 1806, 1734, 1812, 1764]\n",
      "[72, 1764, 1812, 1758, 1825, 1780, 1834, 1749, 1803, 1767, 2241, 2187, 2251, 2206, 2263, 2184, 2238, 1770, 87, 33, 94, 49, 100, 18]\n"
     ]
    }
   ],
   "source": [
    "for path in p:\n",
    "    print(path)"
   ]
  },
  {
   "cell_type": "code",
   "execution_count": 14,
   "id": "9bc08d8a",
   "metadata": {},
   "outputs": [
    {
     "data": {
      "text/plain": [
       "<subprocess.Popen at 0x7ff804de54f0>"
      ]
     },
     "execution_count": 14,
     "metadata": {},
     "output_type": "execute_result"
    }
   ],
   "source": [
    "view(ra)"
   ]
  },
  {
   "cell_type": "code",
   "execution_count": 4,
   "id": "ac17f9c3",
   "metadata": {},
   "outputs": [],
   "source": [
    "z = framework('MFI')\n",
    "view(z)\n",
    "#pulls up view of the cell, gives distances of unit cell, and other info"
   ]
  },
  {
   "cell_type": "code",
   "execution_count": 5,
   "id": "77d9fc82",
   "metadata": {},
   "outputs": [
    {
     "data": {
      "text/plain": [
       "<subprocess.Popen at 0x7ff804de5ac0>"
      ]
     },
     "execution_count": 5,
     "metadata": {},
     "output_type": "execute_result"
    }
   ],
   "source": []
  },
  {
   "cell_type": "code",
   "execution_count": 16,
   "id": "14efea7e",
   "metadata": {},
   "outputs": [
    {
     "name": "stdout",
     "output_type": "stream",
     "text": [
      "O1 4 0\n",
      "O2 8 4\n",
      "O3 4 12\n"
     ]
    }
   ],
   "source": [
    "os , om, oi = get_osites('ABW')\n",
    "for s,m,i in zip(os,om,oi): #makes into matrix\n",
    "    print(s,m,i)\n",
    "    \n",
    "#sec col is number in the molecule\n",
    "#third col is atom index example"
   ]
  },
  {
   "cell_type": "code",
   "execution_count": 1,
   "id": "371e6263",
   "metadata": {},
   "outputs": [
    {
     "ename": "NameError",
     "evalue": "name 'get_fw_data' is not defined",
     "output_type": "error",
     "traceback": [
      "\u001b[0;31m---------------------------------------------------------------------------\u001b[0m",
      "\u001b[0;31mNameError\u001b[0m                                 Traceback (most recent call last)",
      "\u001b[0;32m<ipython-input-1-d98084c3197b>\u001b[0m in \u001b[0;36m<module>\u001b[0;34m\u001b[0m\n\u001b[0;32m----> 1\u001b[0;31m \u001b[0mtsites\u001b[0m\u001b[0;34m,\u001b[0m\u001b[0mosites\u001b[0m \u001b[0;34m=\u001b[0m \u001b[0mget_fw_data\u001b[0m\u001b[0;34m(\u001b[0m\u001b[0;34m'../Data/iza_data.csv'\u001b[0m\u001b[0;34m,\u001b[0m\u001b[0;34m'CHA'\u001b[0m\u001b[0;34m)\u001b[0m\u001b[0;34m\u001b[0m\u001b[0;34m\u001b[0m\u001b[0m\n\u001b[0m",
      "\u001b[0;31mNameError\u001b[0m: name 'get_fw_data' is not defined"
     ]
    }
   ],
   "source": [
    "tsites,osites = get_fw_data('../Data/iza_data.csv','CHA')"
   ]
  },
  {
   "cell_type": "code",
   "execution_count": null,
   "id": "a245c2d2",
   "metadata": {},
   "outputs": [],
   "source": []
  }
 ],
 "metadata": {
  "kernelspec": {
   "display_name": "Python 3",
   "language": "python",
   "name": "python3"
  },
  "language_info": {
   "codemirror_mode": {
    "name": "ipython",
    "version": 3
   },
   "file_extension": ".py",
   "mimetype": "text/x-python",
   "name": "python",
   "nbconvert_exporter": "python",
   "pygments_lexer": "ipython3",
   "version": "3.8.8"
  }
 },
 "nbformat": 4,
 "nbformat_minor": 5
}
